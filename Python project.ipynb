{
 "cells": [
  {
   "cell_type": "code",
   "execution_count": 58,
   "id": "4819a826-6020-43de-bffd-4fc1ec681cfb",
   "metadata": {},
   "outputs": [
    {
     "name": "stdout",
     "output_type": "stream",
     "text": [
      "Removed 0 duplicate rows.\n",
      "<class 'pandas.core.frame.DataFrame'>\n",
      "RangeIndex: 2823 entries, 0 to 2822\n",
      "Data columns (total 24 columns):\n",
      " #   Column            Non-Null Count  Dtype         \n",
      "---  ------            --------------  -----         \n",
      " 0   ordernumber       2823 non-null   int64         \n",
      " 1   quantityordered   2823 non-null   int64         \n",
      " 2   priceeach         2823 non-null   float64       \n",
      " 3   orderlinenumber   2823 non-null   int64         \n",
      " 4   sales             2823 non-null   float64       \n",
      " 5   orderdate         2823 non-null   datetime64[ns]\n",
      " 6   status            2823 non-null   object        \n",
      " 7   qtr_id            2823 non-null   int64         \n",
      " 8   month_id          2823 non-null   int64         \n",
      " 9   year_id           2823 non-null   int64         \n",
      " 10  productline       2823 non-null   object        \n",
      " 11  msrp              2823 non-null   int64         \n",
      " 12  productcode       2823 non-null   object        \n",
      " 13  customername      2823 non-null   object        \n",
      " 14  phone             2823 non-null   object        \n",
      " 15  addressline1      2823 non-null   object        \n",
      " 16  city              2823 non-null   object        \n",
      " 17  state             2823 non-null   object        \n",
      " 18  postalcode        2823 non-null   object        \n",
      " 19  country           2823 non-null   object        \n",
      " 20  territory         2823 non-null   object        \n",
      " 21  contactlastname   2823 non-null   object        \n",
      " 22  contactfirstname  2823 non-null   object        \n",
      " 23  dealsize          2823 non-null   object        \n",
      "dtypes: datetime64[ns](1), float64(2), int64(7), object(14)\n",
      "memory usage: 529.4+ KB\n",
      "Data Cleaning Completed Successfully!\n"
     ]
    }
   ],
   "source": [
    "import pandas as pd\n",
    "import numpy as np\n",
    "\n",
    "# Load the dataset\n",
    "df = pd.read_csv(\"sales_data_sample.csv\", encoding=\"ISO-8859-1\")\n",
    "\n",
    "# Standardize column names (lowercase for consistency)\n",
    "df.columns = df.columns.str.lower()\n",
    "\n",
    "# Convert ORDERDATE to datetime format\n",
    "df['orderdate'] = pd.to_datetime(df['orderdate'])\n",
    "\n",
    "# Handling missing values\n",
    "df.fillna({\"state\": \"Unknown\", \"postalcode\": \"00000\", \"territory\": \"Not Assigned\"}, inplace=True)\n",
    "\n",
    "# Drop ADDRESSLINE2 since it's mostly empty\n",
    "df.drop(columns=['addressline2'], inplace=True)\n",
    "\n",
    "# Remove duplicate rows if any\n",
    "before_dup = df.shape[0]\n",
    "df.drop_duplicates(inplace=True)\n",
    "after_dup = df.shape[0]\n",
    "print(f\"Removed {before_dup - after_dup} duplicate rows.\")\n",
    "\n",
    "# Handling Outliers for QUANTITYORDERED, SALES, and MSRP\n",
    "def cap_outliers(series):\n",
    "    q1 = series.quantile(0.25)\n",
    "    q3 = series.quantile(0.75)\n",
    "    iqr = q3 - q1\n",
    "    lower_bound = q1 - 1.5 * iqr\n",
    "    upper_bound = q3 + 1.5 * iqr\n",
    "    return series.clip(lower_bound, upper_bound)\n",
    "\n",
    "df[\"quantityordered\"] = cap_outliers(df[\"quantityordered\"])\n",
    "df[\"sales\"] = cap_outliers(df[\"sales\"])\n",
    "df[\"msrp\"] = cap_outliers(df[\"msrp\"])\n",
    "\n",
    "# Checking for inconsistent data types\n",
    "df['quantityordered'] = pd.to_numeric(df['quantityordered'], errors='coerce')\n",
    "df['priceeach'] = pd.to_numeric(df['priceeach'], errors='coerce')\n",
    "df['sales'] = pd.to_numeric(df['sales'], errors='coerce')\n",
    "\n",
    "# Standardizing categorical data\n",
    "df['state'] = df['state'].str.upper()\n",
    "df['territory'] = df['territory'].str.upper()\n",
    "df['postalcode'] = df['postalcode'].astype(str)\n",
    "\n",
    "# Display cleaned data info\n",
    "df.info()\n",
    "print(\"Data Cleaning Completed Successfully!\")\n",
    "\n"
   ]
  },
  {
   "cell_type": "code",
   "execution_count": 56,
   "id": "176bb1ad-dc58-4c24-af94-da140e85774e",
   "metadata": {},
   "outputs": [
    {
     "name": "stdout",
     "output_type": "stream",
     "text": [
      "\n",
      "Select a column for statistical analysis:\n",
      "1. ordernumber\n",
      "2. quantityordered\n",
      "3. priceeach\n",
      "4. orderlinenumber\n",
      "5. sales\n",
      "6. qtr_id\n",
      "7. month_id\n",
      "8. year_id\n",
      "9. msrp\n",
      "10. exit\n"
     ]
    },
    {
     "name": "stdin",
     "output_type": "stream",
     "text": [
      "Enter the number corresponding to the column:  4\n"
     ]
    },
    {
     "name": "stdout",
     "output_type": "stream",
     "text": [
      "\n",
      "Summary Statistics for 'orderlinenumber':\n",
      "Mean: 6.47\n",
      "Median: 6.00\n",
      "Mode: 1.00\n",
      "Standard Deviation: 4.23\n",
      "Skewness: 0.59\n",
      "Kurtosis: -0.56\n"
     ]
    },
    {
     "name": "stdin",
     "output_type": "stream",
     "text": [
      "\n",
      "Do you want to analyze another column? (yes/no):  y\n"
     ]
    },
    {
     "name": "stdout",
     "output_type": "stream",
     "text": [
      "\n",
      "Select a column for statistical analysis:\n",
      "1. ordernumber\n",
      "2. quantityordered\n",
      "3. priceeach\n",
      "4. orderlinenumber\n",
      "5. sales\n",
      "6. qtr_id\n",
      "7. month_id\n",
      "8. year_id\n",
      "9. msrp\n",
      "10. exit\n"
     ]
    },
    {
     "name": "stdin",
     "output_type": "stream",
     "text": [
      "Enter the number corresponding to the column:  5\n"
     ]
    },
    {
     "name": "stdout",
     "output_type": "stream",
     "text": [
      "\n",
      "Summary Statistics for 'sales':\n",
      "Mean: 3553.89\n",
      "Median: 3184.80\n",
      "Mode: 3003.00\n",
      "Standard Deviation: 1841.87\n",
      "Skewness: 1.16\n",
      "Kurtosis: 1.79\n"
     ]
    },
    {
     "name": "stdin",
     "output_type": "stream",
     "text": [
      "\n",
      "Do you want to analyze another column? (yes/no):  n\n"
     ]
    },
    {
     "name": "stdout",
     "output_type": "stream",
     "text": [
      "Exiting program. Goodbye!\n"
     ]
    }
   ],
   "source": [
    "import pandas as pd\n",
    "import numpy as np\n",
    "from scipy import stats\n",
    "\n",
    "# Load the dataset\n",
    "df = pd.read_csv(\"sales_data_sample.csv\", encoding=\"ISO-8859-1\")\n",
    "\n",
    "# Standardize column names (lowercase for consistency)\n",
    "df.columns = df.columns.str.lower()\n",
    "\n",
    "# Numeric columns for analysis\n",
    "numeric_columns = [\n",
    "    \"ordernumber\", \"quantityordered\", \"priceeach\", \"orderlinenumber\",\n",
    "    \"sales\", \"qtr_id\", \"month_id\", \"year_id\", \"msrp\"\n",
    "]\n",
    "\n",
    "# Mapping for user input\n",
    "column_mapping = {str(i+1): col for i, col in enumerate(numeric_columns)}\n",
    "column_mapping[\"10\"] = \"exit\"  # Exit option\n",
    "\n",
    "def show_stats():\n",
    "    while True:\n",
    "        # Display column options\n",
    "        print(\"\\nSelect a column for statistical analysis:\")\n",
    "        for key, value in column_mapping.items():\n",
    "            print(f\"{key}. {value}\")\n",
    "        \n",
    "        # User input for column selection\n",
    "        choice = input(\"Enter the number corresponding to the column: \").strip()\n",
    "\n",
    "        if choice == \"10\":  # Exit condition\n",
    "            print(\"Exiting program. Goodbye!\")\n",
    "            break\n",
    "\n",
    "        if choice not in column_mapping:\n",
    "            print(\"Invalid input! Please enter a valid number.\")\n",
    "            continue\n",
    "\n",
    "        column_name = column_mapping[choice]\n",
    "\n",
    "        # Compute statistics\n",
    "        print(f\"\\nSummary Statistics for '{column_name}':\")\n",
    "        print(f\"Mean: {df[column_name].mean():.2f}\")\n",
    "        print(f\"Median: {df[column_name].median():.2f}\")\n",
    "        print(f\"Mode: {df[column_name].mode()[0]:.2f}\")\n",
    "        print(f\"Standard Deviation: {df[column_name].std():.2f}\")\n",
    "        print(f\"Skewness: {df[column_name].skew():.2f}\")\n",
    "        print(f\"Kurtosis: {df[column_name].kurtosis():.2f}\")\n",
    "\n",
    "        # Ask user if they want to continue\n",
    "        while True:\n",
    "            more_data = input(\"\\nDo you want to analyze another column? (yes/no): \").strip().lower()\n",
    "            if more_data in [\"yes\", \"y\"]:\n",
    "                break  # Continue to next iteration of main loop\n",
    "            elif more_data in [\"no\", \"n\"]:\n",
    "                print(\"Exiting program. Goodbye!\")\n",
    "                return  # Exit function\n",
    "            else:\n",
    "                print(\"Invalid input! Please enter 'yes' (or 'y') or 'no' (or 'n').\")\n",
    "\n",
    "# Run the function\n",
    "show_stats()\n"
   ]
  },
  {
   "cell_type": "code",
   "execution_count": 72,
   "id": "c7acaa7f-c4ad-4b96-8ca2-558042af389d",
   "metadata": {},
   "outputs": [
    {
     "name": "stdout",
     "output_type": "stream",
     "text": [
      "Select an analysis type:\n",
      "1. Sales Trends (Time-based)\n",
      "2. Seasonal Analysis\n",
      "3. Top Performing Products\n",
      "4. Correlation Analysis\n",
      "5. Exit\n"
     ]
    },
    {
     "name": "stdin",
     "output_type": "stream",
     "text": [
      "Enter your choice (1-5):  5\n"
     ]
    },
    {
     "name": "stdout",
     "output_type": "stream",
     "text": [
      "Exiting...\n"
     ]
    }
   ],
   "source": [
    "import pandas as pd\n",
    "import matplotlib.pyplot as plt\n",
    "import seaborn as sns\n",
    "\n",
    "# Assuming df is your DataFrame\n",
    "def plot_graph(graph_type, column_x=None, column_y=None):\n",
    "    plt.figure(figsize=(10, 5))\n",
    "    \n",
    "    if graph_type == \"line\":\n",
    "        sns.lineplot(x=df[column_x], y=df[column_y])\n",
    "    elif graph_type == \"area\":\n",
    "        plt.fill_between(df[column_x], df[column_y], alpha=0.5)\n",
    "    elif graph_type == \"box\":\n",
    "        sns.boxplot(x=df[column_x], y=df[column_y])\n",
    "    elif graph_type == \"pie\":\n",
    "        df[column_x].value_counts().plot.pie(autopct=\"%1.1f%%\")\n",
    "    elif graph_type == \"heatmap\":\n",
    "        numeric_df = df.select_dtypes(include=['number'])  # Select only numeric columns\n",
    "        sns.heatmap(numeric_df.corr(), annot=True, cmap=\"coolwarm\", fmt=\".2f\")\n",
    "    \n",
    "    plt.title(f\"{graph_type.capitalize()} Chart\")\n",
    "    plt.xticks(rotation=45)\n",
    "    plt.show()\n",
    "\n",
    "def analysis_chatbot():\n",
    "    while True:\n",
    "        print(\"Select an analysis type:\")\n",
    "        print(\"1. Sales Trends (Time-based)\")\n",
    "        print(\"2. Seasonal Analysis\")\n",
    "        print(\"3. Top Performing Products\")\n",
    "        print(\"4. Correlation Analysis\")\n",
    "        print(\"5. Exit\")\n",
    "        choice = input(\"Enter your choice (1-5): \")\n",
    "        \n",
    "        if choice == \"1\":\n",
    "            print(\"Select a graph type:\")\n",
    "            print(\"1. Line Chart\")\n",
    "            print(\"2. Area Chart\")\n",
    "            print(\"3. Back\")\n",
    "            graph_choice = input(\"Enter your choice (1-3): \")\n",
    "            if graph_choice == \"1\":\n",
    "                plot_graph(\"line\", \"orderdate\", \"sales\")\n",
    "            elif graph_choice == \"2\":\n",
    "                plot_graph(\"area\", \"orderdate\", \"sales\")\n",
    "            elif graph_choice == \"3\":\n",
    "                continue\n",
    "            else:\n",
    "                print(\"Invalid choice!\")\n",
    "        \n",
    "        elif choice == \"2\":\n",
    "            print(\"Select a graph type:\")\n",
    "            print(\"1. Box Plot\")\n",
    "            print(\"2. Back\")\n",
    "            graph_choice = input(\"Enter your choice (1-2): \")\n",
    "            if graph_choice == \"1\":\n",
    "                plot_graph(\"box\", \"month_id\", \"sales\")\n",
    "            elif graph_choice == \"2\":\n",
    "                continue\n",
    "            else:\n",
    "                print(\"Invalid choice!\")\n",
    "        \n",
    "        elif choice == \"3\":\n",
    "            print(\"Select a graph type:\")\n",
    "            print(\"1. Pie Chart\")\n",
    "            print(\"2. Back\")\n",
    "            graph_choice = input(\"Enter your choice (1-2): \")\n",
    "            if graph_choice == \"1\":\n",
    "                plot_graph(\"pie\", \"productline\")\n",
    "            elif graph_choice == \"2\":\n",
    "                continue\n",
    "            else:\n",
    "                print(\"Invalid choice!\")\n",
    "        \n",
    "        elif choice == \"4\":\n",
    "            print(\"Generating Heatmap for Correlation Analysis...\")\n",
    "            plot_graph(\"heatmap\")\n",
    "        \n",
    "        elif choice == \"5\":\n",
    "            print(\"Exiting...\")\n",
    "            break\n",
    "        else:\n",
    "            print(\"Invalid choice. Please select a valid option.\")\n",
    "\n",
    "analysis_chatbot()\n"
   ]
  },
  {
   "cell_type": "code",
   "execution_count": null,
   "id": "6a9d2d29-24e2-4872-b9e6-7fbf14f6a5fc",
   "metadata": {},
   "outputs": [],
   "source": []
  }
 ],
 "metadata": {
  "kernelspec": {
   "display_name": "Python 3 (ipykernel)",
   "language": "python",
   "name": "python3"
  },
  "language_info": {
   "codemirror_mode": {
    "name": "ipython",
    "version": 3
   },
   "file_extension": ".py",
   "mimetype": "text/x-python",
   "name": "python",
   "nbconvert_exporter": "python",
   "pygments_lexer": "ipython3",
   "version": "3.12.4"
  }
 },
 "nbformat": 4,
 "nbformat_minor": 5
}
